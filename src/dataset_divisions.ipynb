{
 "cells": [
  {
   "cell_type": "code",
   "execution_count": 1,
   "metadata": {},
   "outputs": [],
   "source": [
    "import pandas as pd\n",
    "from matplotlib import pyplot as plt"
   ]
  },
  {
   "cell_type": "code",
   "execution_count": 2,
   "metadata": {},
   "outputs": [
    {
     "data": {
      "text/plain": [
       "31004"
      ]
     },
     "execution_count": 2,
     "metadata": {},
     "output_type": "execute_result"
    }
   ],
   "source": [
    "flexique = pd.read_csv('gender_prediction/data/nlexique.csv').dropna()\n",
    "flexique.shape[0]"
   ]
  },
  {
   "cell_type": "code",
   "execution_count": 3,
   "metadata": {},
   "outputs": [
    {
     "data": {
      "text/plain": [
       "5000"
      ]
     },
     "execution_count": 3,
     "metadata": {},
     "output_type": "execute_result"
    }
   ],
   "source": [
    "echantinom = pd.read_csv('gender_prediction/data/Echantinom-full-20210902.csv')[['lemma', 'gen', 'phon', 'suffix']].dropna()\n",
    "echantinom.shape[0]"
   ]
  },
  {
   "cell_type": "code",
   "execution_count": 4,
   "metadata": {},
   "outputs": [
    {
     "data": {
      "text/html": [
       "<div>\n",
       "<style scoped>\n",
       "    .dataframe tbody tr th:only-of-type {\n",
       "        vertical-align: middle;\n",
       "    }\n",
       "\n",
       "    .dataframe tbody tr th {\n",
       "        vertical-align: top;\n",
       "    }\n",
       "\n",
       "    .dataframe thead th {\n",
       "        text-align: right;\n",
       "    }\n",
       "</style>\n",
       "<table border=\"1\" class=\"dataframe\">\n",
       "  <thead>\n",
       "    <tr style=\"text-align: right;\">\n",
       "      <th></th>\n",
       "      <th>lemma</th>\n",
       "      <th>gen</th>\n",
       "      <th>phon</th>\n",
       "      <th>suffix</th>\n",
       "    </tr>\n",
       "  </thead>\n",
       "  <tbody>\n",
       "    <tr>\n",
       "      <th>1647</th>\n",
       "      <td>dysfonctionnement</td>\n",
       "      <td>m</td>\n",
       "      <td>dis.fɔ̃.ksjɔ.nə.mɑ̃</td>\n",
       "      <td>ment</td>\n",
       "    </tr>\n",
       "    <tr>\n",
       "      <th>3095</th>\n",
       "      <td>mixeur</td>\n",
       "      <td>m</td>\n",
       "      <td>mi.ksœʁ</td>\n",
       "      <td>eurM</td>\n",
       "    </tr>\n",
       "  </tbody>\n",
       "</table>\n",
       "</div>"
      ],
      "text/plain": [
       "                  lemma gen                 phon suffix\n",
       "1647  dysfonctionnement   m  dis.fɔ̃.ksjɔ.nə.mɑ̃   ment\n",
       "3095             mixeur   m              mi.ksœʁ   eurM"
      ]
     },
     "execution_count": 4,
     "metadata": {},
     "output_type": "execute_result"
    }
   ],
   "source": [
    "echantinom[~echantinom.lemma.isin(flexique.lexeme)] # these nouns are in echantinom but not in flexique, hence the discrepency in numbers"
   ]
  },
  {
   "cell_type": "code",
   "execution_count": 5,
   "metadata": {},
   "outputs": [
    {
     "data": {
      "text/plain": [
       "1593"
      ]
     },
     "execution_count": 5,
     "metadata": {},
     "output_type": "execute_result"
    }
   ],
   "source": [
    "b = flexique[flexique.gen == 'b'].lexeme\n",
    "b.shape[0]"
   ]
  },
  {
   "cell_type": "code",
   "execution_count": 6,
   "metadata": {},
   "outputs": [
    {
     "data": {
      "text/plain": [
       "4532"
      ]
     },
     "execution_count": 6,
     "metadata": {},
     "output_type": "execute_result"
    }
   ],
   "source": [
    "# test set = intersection of Echantinom and Flexique, minus nouns with the 'b' gender associated to them (Echantinom ∩ Flexique - b)\n",
    "test = echantinom[(echantinom.lemma.isin(flexique.lexeme)) & (~echantinom.lemma.isin(b))]\n",
    "test.shape[0]"
   ]
  },
  {
   "cell_type": "code",
   "execution_count": 18,
   "metadata": {},
   "outputs": [
    {
     "data": {
      "text/plain": [
       "19904"
      ]
     },
     "execution_count": 18,
     "metadata": {},
     "output_type": "execute_result"
    }
   ],
   "source": [
    "# training set = 80% of nouns in Flexique that are not Echantinom and which do not have the 'b' gender associated to them \n",
    "# (Flexique - Echantinom - b) x 0.8 / (Flexique - Echantinom) ∩ (Flexique - b) x 0.8\n",
    "full_train = flexique[(~flexique.lexeme.isin(echantinom.lemma)) & (~flexique.lexeme.isin(b))]\n",
    "train = int(full_train.shape[0] * 0.8)\n",
    "train"
   ]
  },
  {
   "cell_type": "code",
   "execution_count": 19,
   "metadata": {},
   "outputs": [
    {
     "data": {
      "text/plain": [
       "4976"
      ]
     },
     "execution_count": 19,
     "metadata": {},
     "output_type": "execute_result"
    }
   ],
   "source": [
    "valid = int(full_train.shape[0] * 0.2)\n",
    "valid"
   ]
  },
  {
   "cell_type": "code",
   "execution_count": 42,
   "metadata": {},
   "outputs": [
    {
     "data": {
      "image/png": "[encoded data removed]",
      "text/plain": [
       "<Figure size 800x600 with 1 Axes>"
      ]
     },
     "metadata": {},
     "output_type": "display_data"
    }
   ],
   "source": [
    "labels = [f'Training Set\\n({train} nouns)', f'Validation Set\\n({valid} nouns)', f'Testing Set\\n({test.shape[0]} nouns)']\n",
    "sizes = [train, valid, test.shape[0]]\n",
    "colors = ['#ff9999','#66b3ff','#99ff99']\n",
    "\n",
    "plt.figure(figsize=(8, 6))\n",
    "plt.pie(sizes, labels=labels, colors=colors)\n",
    "\n",
    "plt.show()\n"
   ]
  }
 ],
 "metadata": {
  "kernelspec": {
   "display_name": ".venv",
   "language": "python",
   "name": "python3"
  },
  "language_info": {
   "codemirror_mode": {
    "name": "ipython",
    "version": 3
   },
   "file_extension": ".py",
   "mimetype": "text/x-python",
   "name": "python",
   "nbconvert_exporter": "python",
   "pygments_lexer": "ipython3",
   "version": "3.12.3"
  }
 },
 "nbformat": 4,
 "nbformat_minor": 2
}
