{
 "cells": [
  {
   "cell_type": "markdown",
   "metadata": {},
   "source": [
    "LSTM\n",
    "=="
   ]
  },
  {
   "cell_type": "code",
   "execution_count": 1,
   "metadata": {},
   "outputs": [],
   "source": [
    "import pandas as pd\n",
    "import torch\n",
    "\n",
    "from data_processing import DataGenerator\n",
    "from model import GenderLSTM\n",
    "from model_evaluation import baseline_accuracy, compare_accuracies, statistical_check\n",
    "from visualization import plot_metrics"
   ]
  },
  {
   "cell_type": "markdown",
   "metadata": {},
   "source": [
    "### Dataset"
   ]
  },
  {
   "cell_type": "code",
   "execution_count": 2,
   "metadata": {},
   "outputs": [
    {
     "data": {
      "text/html": [
       "<div>\n",
       "<style scoped>\n",
       "    .dataframe tbody tr th:only-of-type {\n",
       "        vertical-align: middle;\n",
       "    }\n",
       "\n",
       "    .dataframe tbody tr th {\n",
       "        vertical-align: top;\n",
       "    }\n",
       "\n",
       "    .dataframe thead th {\n",
       "        text-align: right;\n",
       "    }\n",
       "</style>\n",
       "<table border=\"1\" class=\"dataframe\">\n",
       "  <thead>\n",
       "    <tr style=\"text-align: right;\">\n",
       "      <th></th>\n",
       "      <th>orthography</th>\n",
       "      <th>phonetic transcription</th>\n",
       "      <th>gender</th>\n",
       "    </tr>\n",
       "  </thead>\n",
       "  <tbody>\n",
       "    <tr>\n",
       "      <th>0</th>\n",
       "      <td>à-côté</td>\n",
       "      <td>akOte</td>\n",
       "      <td>m</td>\n",
       "    </tr>\n",
       "    <tr>\n",
       "      <th>1</th>\n",
       "      <td>à-coup</td>\n",
       "      <td>aku</td>\n",
       "      <td>m</td>\n",
       "    </tr>\n",
       "    <tr>\n",
       "      <th>2</th>\n",
       "      <td>à-peu-près</td>\n",
       "      <td>apØpʁɛ</td>\n",
       "      <td>m</td>\n",
       "    </tr>\n",
       "    <tr>\n",
       "      <th>3</th>\n",
       "      <td>à-pic</td>\n",
       "      <td>apik</td>\n",
       "      <td>m</td>\n",
       "    </tr>\n",
       "    <tr>\n",
       "      <th>4</th>\n",
       "      <td>à-plat</td>\n",
       "      <td>apla</td>\n",
       "      <td>m</td>\n",
       "    </tr>\n",
       "    <tr>\n",
       "      <th>...</th>\n",
       "      <td>...</td>\n",
       "      <td>...</td>\n",
       "      <td>...</td>\n",
       "    </tr>\n",
       "    <tr>\n",
       "      <th>30999</th>\n",
       "      <td>zurichois</td>\n",
       "      <td>zyʁikwa</td>\n",
       "      <td>m</td>\n",
       "    </tr>\n",
       "    <tr>\n",
       "      <th>31000</th>\n",
       "      <td>zydeco</td>\n",
       "      <td>zidəko</td>\n",
       "      <td>f</td>\n",
       "    </tr>\n",
       "    <tr>\n",
       "      <th>31001</th>\n",
       "      <td>zygoma</td>\n",
       "      <td>zigOma</td>\n",
       "      <td>m</td>\n",
       "    </tr>\n",
       "    <tr>\n",
       "      <th>31002</th>\n",
       "      <td>zygote</td>\n",
       "      <td>zigɔt</td>\n",
       "      <td>m</td>\n",
       "    </tr>\n",
       "    <tr>\n",
       "      <th>31003</th>\n",
       "      <td>zyklon</td>\n",
       "      <td>ziklɔ̃</td>\n",
       "      <td>m</td>\n",
       "    </tr>\n",
       "  </tbody>\n",
       "</table>\n",
       "<p>31004 rows × 3 columns</p>\n",
       "</div>"
      ],
      "text/plain": [
       "      orthography phonetic transcription gender\n",
       "0          à-côté                  akOte      m\n",
       "1          à-coup                    aku      m\n",
       "2      à-peu-près                 apØpʁɛ      m\n",
       "3           à-pic                   apik      m\n",
       "4          à-plat                   apla      m\n",
       "...           ...                    ...    ...\n",
       "30999   zurichois                zyʁikwa      m\n",
       "31000      zydeco                 zidəko      f\n",
       "31001      zygoma                 zigOma      m\n",
       "31002      zygote                  zigɔt      m\n",
       "31003      zyklon                 ziklɔ̃      m\n",
       "\n",
       "[31004 rows x 3 columns]"
      ]
     },
     "execution_count": 2,
     "metadata": {},
     "output_type": "execute_result"
    }
   ],
   "source": [
    "filename= '../data/nlexique.csv'\n",
    "df = pd.read_csv(filename)\n",
    "df = df[['lexeme', 'sg', 'gen']].rename(columns={'lexeme': 'orthography', 'sg': 'phonetic transcription', 'gen': 'gender'}).dropna().reset_index(drop=True)\n",
    "df"
   ]
  },
  {
   "cell_type": "code",
   "execution_count": 3,
   "metadata": {},
   "outputs": [],
   "source": [
    "# Datasets with the 'b class\n",
    "orthography_data_3gen = df[['orthography', 'gender']]\n",
    "phonetic_data_3gen = df[['phonetic transcription', 'gender']]"
   ]
  },
  {
   "cell_type": "code",
   "execution_count": 4,
   "metadata": {},
   "outputs": [],
   "source": [
    "# Datasets without the 'b' class\n",
    "orthography_data_2gen = df[df['gender'] != 'b'][['orthography', 'gender']]\n",
    "phonetic_data_2gen = df[df['gender'] != 'b'][['phonetic transcription', 'gender']]"
   ]
  },
  {
   "cell_type": "markdown",
   "metadata": {},
   "source": [
    "### Hyperparameters\n"
   ]
  },
  {
   "cell_type": "code",
   "execution_count": 5,
   "metadata": {},
   "outputs": [],
   "source": [
    "DEVICE = torch.device('cuda' if torch.cuda.is_available() else 'cpu')\n",
    "embedding_dim = 128\n",
    "hidden_size = 256\n",
    "batch_size = 64\n",
    "n_epochs = 20\n",
    "lr = 0.001"
   ]
  },
  {
   "cell_type": "markdown",
   "metadata": {},
   "source": [
    "### Orthographic Form (3 classes)"
   ]
  },
  {
   "cell_type": "code",
   "execution_count": 6,
   "metadata": {},
   "outputs": [
    {
     "name": "stdout",
     "output_type": "stream",
     "text": [
      "Epoch: 0\n",
      "[Train] Loss: 0.4741   Accuracy: 82.73%   Beginning of plateau (index): 2   Accuracy at the beginning of plateau: 68.41%\n",
      "[Valid] Loss: 0.4639   Accuracy: 84.37%   Beginning of plateau (index): 2   Accuracy at the beginning of plateau: 69.36%\n",
      "----------------------------------------------------------------------------------------------------\n",
      "Epoch: 1\n",
      "[Train] Loss: 0.3529   Accuracy: 87.15%   Beginning of plateau (index): 2   Accuracy at the beginning of plateau: 72.49%\n",
      "[Valid] Loss: 0.3990   Accuracy: 86.45%   Beginning of plateau (index): 3   Accuracy at the beginning of plateau: 82.21%\n",
      "----------------------------------------------------------------------------------------------------\n",
      "Epoch: 2\n",
      "[Train] Loss: 0.3230   Accuracy: 88.25%   Beginning of plateau (index): 1   Accuracy at the beginning of plateau: 64.36%\n",
      "[Valid] Loss: 0.3395   Accuracy: 88.09%   Beginning of plateau (index): 3   Accuracy at the beginning of plateau: 81.87%\n",
      "----------------------------------------------------------------------------------------------------\n",
      "Epoch: 3\n",
      "[Train] Loss: 0.2996   Accuracy: 89.11%   Beginning of plateau (index): 1   Accuracy at the beginning of plateau: 63.05%\n",
      "[Valid] Loss: 0.3427   Accuracy: 88.38%   Beginning of plateau (index): 3   Accuracy at the beginning of plateau: 82.91%\n",
      "----------------------------------------------------------------------------------------------------\n",
      "Epoch: 4\n",
      "[Train] Loss: 0.2777   Accuracy: 89.80%   Beginning of plateau (index): 1   Accuracy at the beginning of plateau: 63.73%\n",
      "[Valid] Loss: 0.3394   Accuracy: 88.54%   Beginning of plateau (index): 3   Accuracy at the beginning of plateau: 83.77%\n",
      "----------------------------------------------------------------------------------------------------\n",
      "Epoch: 5\n",
      "[Train] Loss: 0.2567   Accuracy: 90.54%   Beginning of plateau (index): 0   Accuracy at the beginning of plateau: 56.49%\n",
      "[Valid] Loss: 0.3504   Accuracy: 88.53%   Beginning of plateau (index): 0   Accuracy at the beginning of plateau: 57.16%\n",
      "----------------------------------------------------------------------------------------------------\n",
      "Epoch: 6\n",
      "[Train] Loss: 0.2348   Accuracy: 91.27%   Beginning of plateau (index): 0   Accuracy at the beginning of plateau: 60.71%\n",
      "[Valid] Loss: 0.3593   Accuracy: 88.62%   Beginning of plateau (index): 3   Accuracy at the beginning of plateau: 85.37%\n",
      "----------------------------------------------------------------------------------------------------\n",
      "Epoch: 7\n",
      "[Train] Loss: 0.2090   Accuracy: 92.20%   Beginning of plateau (index): 0   Accuracy at the beginning of plateau: 64.48%\n",
      "[Valid] Loss: 0.3588   Accuracy: 88.82%   Beginning of plateau (index): 0   Accuracy at the beginning of plateau: 64.53%\n",
      "----------------------------------------------------------------------------------------------------\n",
      "Early stopping after 8 epochs and 3 epochs without improvement.\n"
     ]
    }
   ],
   "source": [
    "or3_data_generator = DataGenerator(orthography_data_3gen, reverse_nouns=True)\n",
    "or3_model = GenderLSTM(or3_data_generator, embedding_dim, hidden_size, device=DEVICE, reversed=True)\n",
    "or3_train, or3_valid = or3_model.train_model(or3_data_generator, n_epochs, batch_size, lr, model_path='../saved_models/orthography_3gen.pth')"
   ]
  },
  {
   "cell_type": "code",
   "execution_count": 7,
   "metadata": {},
   "outputs": [
    {
     "data": {
      "text/html": [
       "<div>\n",
       "<style scoped>\n",
       "    .dataframe tbody tr th:only-of-type {\n",
       "        vertical-align: middle;\n",
       "    }\n",
       "\n",
       "    .dataframe tbody tr th {\n",
       "        vertical-align: top;\n",
       "    }\n",
       "\n",
       "    .dataframe thead th {\n",
       "        text-align: right;\n",
       "    }\n",
       "</style>\n",
       "<table border=\"1\" class=\"dataframe\">\n",
       "  <thead>\n",
       "    <tr style=\"text-align: right;\">\n",
       "      <th></th>\n",
       "      <th>Word</th>\n",
       "      <th>Predicted Gender</th>\n",
       "      <th>True Gender</th>\n",
       "    </tr>\n",
       "  </thead>\n",
       "  <tbody>\n",
       "    <tr>\n",
       "      <th>0</th>\n",
       "      <td>g</td>\n",
       "      <td>m</td>\n",
       "      <td>m</td>\n",
       "    </tr>\n",
       "    <tr>\n",
       "      <th>1</th>\n",
       "      <td>c</td>\n",
       "      <td>m</td>\n",
       "      <td>m</td>\n",
       "    </tr>\n",
       "    <tr>\n",
       "      <th>2</th>\n",
       "      <td>am</td>\n",
       "      <td>m</td>\n",
       "      <td>b</td>\n",
       "    </tr>\n",
       "    <tr>\n",
       "      <th>3</th>\n",
       "      <td>ip</td>\n",
       "      <td>m</td>\n",
       "      <td>m</td>\n",
       "    </tr>\n",
       "    <tr>\n",
       "      <th>4</th>\n",
       "      <td>'d</td>\n",
       "      <td>m</td>\n",
       "      <td>m</td>\n",
       "    </tr>\n",
       "    <tr>\n",
       "      <th>...</th>\n",
       "      <td>...</td>\n",
       "      <td>...</td>\n",
       "      <td>...</td>\n",
       "    </tr>\n",
       "    <tr>\n",
       "      <th>6196</th>\n",
       "      <td>tnerap-sdnarg-erèirra</td>\n",
       "      <td>m</td>\n",
       "      <td>m</td>\n",
       "    </tr>\n",
       "    <tr>\n",
       "      <th>6197</th>\n",
       "      <td>eriannoitulovér-ertnoc</td>\n",
       "      <td>m</td>\n",
       "      <td>b</td>\n",
       "    </tr>\n",
       "    <tr>\n",
       "      <th>6198</th>\n",
       "      <td>emmoh-enuej-iom-zevius</td>\n",
       "      <td>m</td>\n",
       "      <td>m</td>\n",
       "    </tr>\n",
       "    <tr>\n",
       "      <th>6199</th>\n",
       "      <td>ruelliuortap-reitulahc</td>\n",
       "      <td>m</td>\n",
       "      <td>m</td>\n",
       "    </tr>\n",
       "    <tr>\n",
       "      <th>6200</th>\n",
       "      <td>etsigolognyral-onihr-oto</td>\n",
       "      <td>b</td>\n",
       "      <td>b</td>\n",
       "    </tr>\n",
       "  </tbody>\n",
       "</table>\n",
       "<p>6201 rows × 3 columns</p>\n",
       "</div>"
      ],
      "text/plain": [
       "                          Word Predicted Gender True Gender\n",
       "0                            g                m           m\n",
       "1                            c                m           m\n",
       "2                           am                m           b\n",
       "3                           ip                m           m\n",
       "4                           'd                m           m\n",
       "...                        ...              ...         ...\n",
       "6196     tnerap-sdnarg-erèirra                m           m\n",
       "6197    eriannoitulovér-ertnoc                m           b\n",
       "6198    emmoh-enuej-iom-zevius                m           m\n",
       "6199    ruelliuortap-reitulahc                m           m\n",
       "6200  etsigolognyral-onihr-oto                b           b\n",
       "\n",
       "[6201 rows x 3 columns]"
      ]
     },
     "execution_count": 7,
     "metadata": {},
     "output_type": "execute_result"
    }
   ],
   "source": [
    "or3_predictions = or3_model.predict(or3_data_generator, batch_size)\n",
    "or3_predictions_df = pd.DataFrame(or3_predictions)\n",
    "or3_predictions_df"
   ]
  },
  {
   "cell_type": "code",
   "execution_count": 8,
   "metadata": {},
   "outputs": [
    {
     "data": {
      "image/png": "[encoded data removed]",
      "text/plain": [
       "<Figure size 1200x400 with 2 Axes>"
      ]
     },
     "metadata": {},
     "output_type": "display_data"
    }
   ],
   "source": [
    "plot_metrics(or3_train['accuracy'], or3_valid['accuracy'], or3_train['loss'], or3_valid['loss'])"
   ]
  },
  {
   "cell_type": "code",
   "execution_count": 9,
   "metadata": {},
   "outputs": [
    {
     "name": "stdout",
     "output_type": "stream",
     "text": [
      "The most frequent label in the dataset is: m\n"
     ]
    },
    {
     "data": {
      "image/png": "[encoded data removed]",
      "text/plain": [
       "<Figure size 640x480 with 1 Axes>"
      ]
     },
     "metadata": {},
     "output_type": "display_data"
    }
   ],
   "source": [
    "baseline_acc = baseline_accuracy(or3_data_generator, verbose=True)\n",
    "\n",
    "compare_accuracies(baseline_acc, or3_valid['accuracy'][-1])"
   ]
  },
  {
   "cell_type": "code",
   "execution_count": 69,
   "metadata": {},
   "outputs": [
    {
     "name": "stdout",
     "output_type": "stream",
     "text": [
      "Avg Train Loss: 0.1348   Avg Train Accuracy: 95.23%   Avg Plateau Beginning (index): 0   Avg Plateau Beginning Accuracy: 75.60%\n",
      "Avg Valid Loss: 0.4465   Avg Valid Accuracy: 88.31%   Avg Plateau Beginning (index): 0   Avg Plateau Beginning Accuracy: 78.86%\n"
     ]
    }
   ],
   "source": [
    "hyperparameters = {'embed_dim': 128,\n",
    "                   'hidden_size': 256,\n",
    "                   'batch_size': 64,\n",
    "                   'n_epochs': 20,\n",
    "                   'lr': 0.001}\n",
    "\n",
    "# Averaging results over 10 runs\n",
    "or3_t, or3_v = statistical_check(orthography_data_3gen, hyperparameters, runs=10, reverse_nouns=True, df=True, device=DEVICE)"
   ]
  },
  {
   "cell_type": "markdown",
   "metadata": {},
   "source": [
    "### Phonetic Form (3 classes)"
   ]
  },
  {
   "cell_type": "code",
   "execution_count": null,
   "metadata": {},
   "outputs": [],
   "source": [
    "ph3_data_generator = DataGenerator(phonetic_data_3gen, reverse_nouns=True, df=True)\n",
    "ph3_model = GenderLSTM(ph3_data_generator, embedding_dim, hidden_size, device=DEVICE)\n",
    "ph3_train, ph3_valid = ph3_model.train_model(ph3_data_generator, n_epochs, batch_size, lr, model_path='../saved_models/phonetic_3gen.pth')"
   ]
  },
  {
   "cell_type": "code",
   "execution_count": null,
   "metadata": {},
   "outputs": [],
   "source": [
    "ph3_predictions = ph3_model.predict(ph3_data_generator, batch_size)\n",
    "ph3_predictions_df = pd.DataFrame(ph3_predictions)\n",
    "ph3_predictions_df"
   ]
  },
  {
   "cell_type": "code",
   "execution_count": null,
   "metadata": {},
   "outputs": [],
   "source": [
    "plot_metrics(ph3_train['accuracy'], ph3_valid['accuracy'], ph3_train['loss'], ph3_valid['loss'])"
   ]
  },
  {
   "cell_type": "code",
   "execution_count": null,
   "metadata": {},
   "outputs": [],
   "source": [
    "baseline_acc = baseline_accuracy(ph3_data_generator, verbose=True)\n",
    "\n",
    "compare_accuracies(baseline_acc, ph3_valid['accuracy'][-1])"
   ]
  },
  {
   "cell_type": "code",
   "execution_count": null,
   "metadata": {},
   "outputs": [],
   "source": [
    "# Averaging results over 10 runs\n",
    "ph3_t, ph3_v = statistical_check(phonetic_data_3gen, hyperparameters, runs=10, device=DEVICE)"
   ]
  },
  {
   "cell_type": "code",
   "execution_count": null,
   "metadata": {},
   "outputs": [],
   "source": [
    "word_9 = phonetic_data_3gen['phonetic trasncription'][450] # 'affiliée'\n",
    "\n",
    "print(f'word: {word_9}')\n",
    "view_plateau(word_9, '../saved_models/phonetic_3gen.pth', reverse=True)"
   ]
  },
  {
   "cell_type": "code",
   "execution_count": null,
   "metadata": {},
   "outputs": [],
   "source": [
    "save_probabilities('../saved_models/phonetic_3gen.pth', '../results/phonetic_3gen.csv')"
   ]
  },
  {
   "cell_type": "markdown",
   "metadata": {},
   "source": [
    "### Orthographic Form (binary)"
   ]
  },
  {
   "cell_type": "code",
   "execution_count": null,
   "metadata": {},
   "outputs": [],
   "source": [
    "or2_data_generator = DataGenerator(orthography_data_2gen, reverse_nouns=True, df=True)\n",
    "or2_model = GenderLSTM(or2_data_generator, embedding_dim, hidden_size, device=DEVICE)\n",
    "or2_train, or2_valid = or2_model.train_model(or2_data_generator, n_epochs, batch_size, lr, model_path='../saved_models/orthography_2gen.pth')"
   ]
  },
  {
   "cell_type": "code",
   "execution_count": null,
   "metadata": {},
   "outputs": [],
   "source": [
    "or2_predictions = or2_model.predict(or2_data_generator, batch_size)\n",
    "or2_predictions_df = pd.DataFrame(or2_predictions)\n",
    "or2_predictions_df"
   ]
  },
  {
   "cell_type": "code",
   "execution_count": null,
   "metadata": {},
   "outputs": [],
   "source": [
    "plot_metrics(or2_train['accuracy'], or2_valid['accuracy'], or2_train['loss'], or2_valid['loss'])"
   ]
  },
  {
   "cell_type": "code",
   "execution_count": null,
   "metadata": {},
   "outputs": [],
   "source": [
    "baseline_acc = baseline_accuracy(or2_data_generator, verbose=True)\n",
    "\n",
    "compare_accuracies(baseline_acc, or2_valid['accuracy'][-1])"
   ]
  },
  {
   "cell_type": "code",
   "execution_count": null,
   "metadata": {},
   "outputs": [],
   "source": [
    "# Averaging results over 10 runs\n",
    "or2_t, or2_v = statistical_check(orthography_data_2gen, hyperparameters, runs=10, device=DEVICE)"
   ]
  },
  {
   "cell_type": "markdown",
   "metadata": {},
   "source": [
    "### Phonetic Form (binary)"
   ]
  },
  {
   "cell_type": "code",
   "execution_count": null,
   "metadata": {},
   "outputs": [],
   "source": [
    "ph2_data_generator = DataGenerator(phonetic_data_2gen, reverse_nouns=True, df=True)\n",
    "ph2_model = GenderLSTM(ph2_data_generator, embedding_dim, hidden_size, device=DEVICE)\n",
    "ph2_train, ph2_valid = ph2_model.train_model(ph2_data_generator, n_epochs, batch_size, lr, model_path='../saved_models/phonetic_2gen.pth')"
   ]
  },
  {
   "cell_type": "code",
   "execution_count": null,
   "metadata": {},
   "outputs": [],
   "source": [
    "ph2_predictions = ph2_model.predict(ph2_data_generator, batch_size)\n",
    "ph2_predictions_df = pd.DataFrame(ph2_predictions)\n",
    "ph2_predictions_df"
   ]
  },
  {
   "cell_type": "code",
   "execution_count": null,
   "metadata": {},
   "outputs": [],
   "source": [
    "plot_metrics(ph2_train['accuracy'], ph2_valid['accuracy'], ph2_train['loss'], ph2_valid['loss'])"
   ]
  },
  {
   "cell_type": "code",
   "execution_count": null,
   "metadata": {},
   "outputs": [],
   "source": [
    "baseline_acc = baseline_accuracy(ph2_data_generator, verbose=True)\n",
    "\n",
    "compare_accuracies(baseline_acc, ph2_valid['accuracy'][-1])"
   ]
  },
  {
   "cell_type": "code",
   "execution_count": null,
   "metadata": {},
   "outputs": [],
   "source": [
    "# Averaging results over 10 runs\n",
    "ph2_t, ph2_v = statistical_check(phonetic_data_2gen, hyperparameters, runs=10, device=DEVICE)"
   ]
  },
  {
   "cell_type": "code",
   "execution_count": 169,
   "metadata": {},
   "outputs": [
    {
     "data": {
      "text/html": [
       "<div>\n",
       "<style scoped>\n",
       "    .dataframe tbody tr th:only-of-type {\n",
       "        vertical-align: middle;\n",
       "    }\n",
       "\n",
       "    .dataframe tbody tr th {\n",
       "        vertical-align: top;\n",
       "    }\n",
       "\n",
       "    .dataframe thead th {\n",
       "        text-align: right;\n",
       "    }\n",
       "</style>\n",
       "<table border=\"1\" class=\"dataframe\">\n",
       "  <thead>\n",
       "    <tr style=\"text-align: right;\">\n",
       "      <th></th>\n",
       "      <th>Orthographic Form (M/F/B)</th>\n",
       "      <th>Phonetic Form (M/F/B)</th>\n",
       "      <th>Orthographic Form (M/F)</th>\n",
       "      <th>Phonetic Form (M/F)</th>\n",
       "    </tr>\n",
       "  </thead>\n",
       "  <tbody>\n",
       "    <tr>\n",
       "      <th>Training Accuracy</th>\n",
       "      <td>94.76%</td>\n",
       "      <td>88.09%</td>\n",
       "      <td>97.69%</td>\n",
       "      <td>91.45%</td>\n",
       "    </tr>\n",
       "    <tr>\n",
       "      <th>Validation Accuracy</th>\n",
       "      <td>88.06%</td>\n",
       "      <td>81.26%</td>\n",
       "      <td>91.07%</td>\n",
       "      <td>83.16%</td>\n",
       "    </tr>\n",
       "  </tbody>\n",
       "</table>\n",
       "</div>"
      ],
      "text/plain": [
       "                    Orthographic Form (M/F/B) Phonetic Form (M/F/B)  \\\n",
       "Training Accuracy                      94.76%                88.09%   \n",
       "Validation Accuracy                    88.06%                81.26%   \n",
       "\n",
       "                    Orthographic Form (M/F) Phonetic Form (M/F)  \n",
       "Training Accuracy                    97.69%              91.45%  \n",
       "Validation Accuracy                  91.07%              83.16%  "
      ]
     },
     "execution_count": 169,
     "metadata": {},
     "output_type": "execute_result"
    }
   ],
   "source": [
    "data = {'Orthographic Form (M/F/B)': [f\"{(or3_t['avg_accuracy'].item() * 100):.2f}%\", f\"{(or3_v['avg_accuracy'].item() * 100):.2f}%\"],\n",
    "        'Phonetic Form (M/F/B)': [f\"{(ph3_t['avg_accuracy'].item() * 100):.2f}%\", f\"{(ph3_v['avg_accuracy'].item() * 100):.2f}%\"],\n",
    "        'Orthographic Form (M/F)': [f\"{(or2_t['avg_accuracy'].item() * 100):.2f}%\", f\"{(or2_v['avg_accuracy'].item() * 100):.2f}%\"], \n",
    "        'Phonetic Form (M/F)': [f\"{(ph2_t['avg_accuracy'].item() * 100):.2f}%\", f\"{(ph2_v['avg_accuracy'].item() * 100):.2f}%\"]}\n",
    "\n",
    "accuracy_results = pd.DataFrame(data).rename(index={0:'Training Accuracy', 1: 'Validation Accuracy'})\n",
    "accuracy_results"
   ]
  },
  {
   "cell_type": "code",
   "execution_count": 170,
   "metadata": {},
   "outputs": [
    {
     "data": {
      "text/plain": [
       "{'avg_accuracy': tensor(0.9476),\n",
       " 'avg_loss': 0.14588457543511527,\n",
       " 'avg_plateau_beg': 6,\n",
       " 'avg_acc_at_plateau_beg': tensor(0.8656)}"
      ]
     },
     "execution_count": 170,
     "metadata": {},
     "output_type": "execute_result"
    }
   ],
   "source": [
    "or3_t"
   ]
  },
  {
   "cell_type": "code",
   "execution_count": 173,
   "metadata": {},
   "outputs": [
    {
     "data": {
      "text/html": [
       "<div>\n",
       "<style scoped>\n",
       "    .dataframe tbody tr th:only-of-type {\n",
       "        vertical-align: middle;\n",
       "    }\n",
       "\n",
       "    .dataframe tbody tr th {\n",
       "        vertical-align: top;\n",
       "    }\n",
       "\n",
       "    .dataframe thead th {\n",
       "        text-align: right;\n",
       "    }\n",
       "</style>\n",
       "<table border=\"1\" class=\"dataframe\">\n",
       "  <thead>\n",
       "    <tr style=\"text-align: right;\">\n",
       "      <th></th>\n",
       "      <th>Orthographic Form</th>\n",
       "      <th>Phonetic Form</th>\n",
       "    </tr>\n",
       "  </thead>\n",
       "  <tbody>\n",
       "    <tr>\n",
       "      <th>Training Set</th>\n",
       "      <td>6</td>\n",
       "      <td>5</td>\n",
       "    </tr>\n",
       "    <tr>\n",
       "      <th>Validation Set</th>\n",
       "      <td>6</td>\n",
       "      <td>4</td>\n",
       "    </tr>\n",
       "  </tbody>\n",
       "</table>\n",
       "</div>"
      ],
      "text/plain": [
       "                Orthographic Form  Phonetic Form\n",
       "Training Set                    6              5\n",
       "Validation Set                  6              4"
      ]
     },
     "execution_count": 173,
     "metadata": {},
     "output_type": "execute_result"
    }
   ],
   "source": [
    "plateau_data = {'Orthographic Form': [or3_t['avg_plateau_beg'], or3_v['avg_plateau_beg']],\n",
    "                'Phonetic Form': [ph3_t['avg_plateau_beg'], ph3_v['avg_plateau_beg']],\n",
    "                }\n",
    "\n",
    "plateau_results = pd.DataFrame(plateau_data).rename(index={0:'Training Set', 1: 'Validation Set'})\n",
    "plateau_results"
   ]
  }
 ],
 "metadata": {
  "kernelspec": {
   "display_name": "gendered-nouns-project-qJzt9RqZ",
   "language": "python",
   "name": "python3"
  },
  "language_info": {
   "codemirror_mode": {
    "name": "ipython",
    "version": 3
   },
   "file_extension": ".py",
   "mimetype": "text/x-python",
   "name": "python",
   "nbconvert_exporter": "python",
   "pygments_lexer": "ipython3",
   "version": "3.11.3"
  }
 },
 "nbformat": 4,
 "nbformat_minor": 2
}
