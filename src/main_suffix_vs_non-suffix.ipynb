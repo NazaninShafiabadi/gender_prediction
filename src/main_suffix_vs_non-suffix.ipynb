{
 "cells": [
  {
   "cell_type": "markdown",
   "metadata": {},
   "source": [
    "# Suffix vs Non-suffix Words"
   ]
  },
  {
   "cell_type": "code",
   "execution_count": 44,
   "metadata": {},
   "outputs": [],
   "source": [
    "import matplotlib.pyplot as plt\n",
    "\n",
    "\n",
    "def plot_metrics(train_acc, valid_acc, train_losses, valid_losses):\n",
    "\n",
    "    plt.style.use('ggplot')\n",
    "    fig, (ax1, ax2) = plt.subplots(1, 2, figsize=(12, 4))\n",
    "    plt.subplots_adjust(hspace=0.5)\n",
    "\n",
    "    n_epochs = range(1, len(valid_losses) + 1)\n",
    "\n",
    "    # Plot accuracy\n",
    "    ax1.set_title('Accuracy Evolution Over Epochs')\n",
    "    ax1.plot(n_epochs, train_acc, marker='o', color='steelblue', label='Training Accuracy')\n",
    "    ax1.plot(n_epochs, valid_acc, marker='o', color='orange', label='Validation Accuracy')\n",
    "    ax1.set_xlabel('Epochs')\n",
    "    ax1.set_ylabel('Accuracy')\n",
    "    ax1.legend()\n",
    "\n",
    "    # Plot loss\n",
    "    ax2.set_title('Loss Evolution Over Epochs')\n",
    "    ax2.plot(n_epochs, train_losses, marker='o', color='steelblue', label='Training Loss')\n",
    "    ax2.plot(n_epochs, valid_losses, marker='o', color='orange', label='Validation Loss')\n",
    "    ax2.set_xlabel('Epochs')\n",
    "    ax2.set_ylabel('Loss')\n",
    "    ax2.legend()\n",
    "\n",
    "    plt.show()\n",
    "\n",
    "\n",
    "def compare_accuracies(baseline_acc, model_acc):\n",
    "    \n",
    "    plt.style.use('ggplot')\n",
    "    x_labels = ['MFC\\nBaseline', 'Model']\n",
    "    bar_colors = ['lightsteelblue', 'midnightblue']\n",
    "    bars = plt.bar(x_labels, [baseline_acc, model_acc], width=0.3, color=bar_colors)\n",
    "\n",
    "    for bar in bars:\n",
    "        height = bar.get_height()\n",
    "        plt.text(bar.get_x() + bar.get_width()/2, height, f'{height:.2f}', ha='center', va='bottom')\n",
    "\n",
    "    # plt.title('Comparison of Model Accuracy with Baseline Accuracy (MFC)')\n",
    "    plt.ylabel('Accuracy')\n",
    "    plt.show()"
   ]
  },
  {
   "cell_type": "markdown",
   "metadata": {},
   "source": [
    "### Packages"
   ]
  },
  {
   "cell_type": "code",
   "execution_count": 1,
   "metadata": {},
   "outputs": [],
   "source": [
    "import pandas as pd\n",
    "import torch\n",
    "from sklearn.model_selection import train_test_split\n",
    "\n",
    "from data_processing import DataGenerator, correct_nasal_vowel_transcripts\n",
    "from model import GenderLSTM\n",
    "from model_evaluation import baseline_accuracy, compare_accuracies, statistical_check\n",
    "from visualization import plot_metrics"
   ]
  },
  {
   "cell_type": "markdown",
   "metadata": {},
   "source": [
    "### Hyperparameters"
   ]
  },
  {
   "cell_type": "code",
   "execution_count": 2,
   "metadata": {},
   "outputs": [],
   "source": [
    "DEVICE = torch.device('cuda' if torch.cuda.is_available() else 'cpu')\n",
    "embedding_dim = 128\n",
    "hidden_size = 256\n",
    "batch_size = 64\n",
    "n_epochs = 20\n",
    "lr = 0.001\n",
    "\n",
    "hyperparameters = {\n",
    "    'embed_dim': embedding_dim,\n",
    "    'hidden_size': hidden_size,\n",
    "    'batch_size': batch_size,\n",
    "    'n_epochs': n_epochs,\n",
    "    'lr': lr\n",
    "}"
   ]
  },
  {
   "cell_type": "markdown",
   "metadata": {},
   "source": [
    "### Datasets"
   ]
  },
  {
   "cell_type": "code",
   "execution_count": 3,
   "metadata": {},
   "outputs": [
    {
     "data": {
      "text/html": [
       "<div>\n",
       "<style scoped>\n",
       "    .dataframe tbody tr th:only-of-type {\n",
       "        vertical-align: middle;\n",
       "    }\n",
       "\n",
       "    .dataframe tbody tr th {\n",
       "        vertical-align: top;\n",
       "    }\n",
       "\n",
       "    .dataframe thead th {\n",
       "        text-align: right;\n",
       "    }\n",
       "</style>\n",
       "<table border=\"1\" class=\"dataframe\">\n",
       "  <thead>\n",
       "    <tr style=\"text-align: right;\">\n",
       "      <th></th>\n",
       "      <th>lexeme</th>\n",
       "      <th>phon</th>\n",
       "      <th>gen</th>\n",
       "    </tr>\n",
       "  </thead>\n",
       "  <tbody>\n",
       "    <tr>\n",
       "      <th>0</th>\n",
       "      <td>à-côté</td>\n",
       "      <td>akOte</td>\n",
       "      <td>m</td>\n",
       "    </tr>\n",
       "    <tr>\n",
       "      <th>1</th>\n",
       "      <td>à-coup</td>\n",
       "      <td>aku</td>\n",
       "      <td>m</td>\n",
       "    </tr>\n",
       "    <tr>\n",
       "      <th>2</th>\n",
       "      <td>à-peu-près</td>\n",
       "      <td>apØpʁɛ</td>\n",
       "      <td>m</td>\n",
       "    </tr>\n",
       "    <tr>\n",
       "      <th>3</th>\n",
       "      <td>à-pic</td>\n",
       "      <td>apik</td>\n",
       "      <td>m</td>\n",
       "    </tr>\n",
       "    <tr>\n",
       "      <th>4</th>\n",
       "      <td>à-plat</td>\n",
       "      <td>apla</td>\n",
       "      <td>m</td>\n",
       "    </tr>\n",
       "    <tr>\n",
       "      <th>...</th>\n",
       "      <td>...</td>\n",
       "      <td>...</td>\n",
       "      <td>...</td>\n",
       "    </tr>\n",
       "    <tr>\n",
       "      <th>30999</th>\n",
       "      <td>zurichois</td>\n",
       "      <td>zyʁikwa</td>\n",
       "      <td>m</td>\n",
       "    </tr>\n",
       "    <tr>\n",
       "      <th>31000</th>\n",
       "      <td>zydeco</td>\n",
       "      <td>zidəko</td>\n",
       "      <td>f</td>\n",
       "    </tr>\n",
       "    <tr>\n",
       "      <th>31001</th>\n",
       "      <td>zygoma</td>\n",
       "      <td>zigOma</td>\n",
       "      <td>m</td>\n",
       "    </tr>\n",
       "    <tr>\n",
       "      <th>31002</th>\n",
       "      <td>zygote</td>\n",
       "      <td>zigɔt</td>\n",
       "      <td>m</td>\n",
       "    </tr>\n",
       "    <tr>\n",
       "      <th>31003</th>\n",
       "      <td>zyklon</td>\n",
       "      <td>zikl2</td>\n",
       "      <td>m</td>\n",
       "    </tr>\n",
       "  </tbody>\n",
       "</table>\n",
       "<p>31004 rows × 3 columns</p>\n",
       "</div>"
      ],
      "text/plain": [
       "           lexeme     phon gen\n",
       "0          à-côté    akOte   m\n",
       "1          à-coup      aku   m\n",
       "2      à-peu-près   apØpʁɛ   m\n",
       "3           à-pic     apik   m\n",
       "4          à-plat     apla   m\n",
       "...           ...      ...  ..\n",
       "30999   zurichois  zyʁikwa   m\n",
       "31000      zydeco   zidəko   f\n",
       "31001      zygoma   zigOma   m\n",
       "31002      zygote    zigɔt   m\n",
       "31003      zyklon    zikl2   m\n",
       "\n",
       "[31004 rows x 3 columns]"
      ]
     },
     "execution_count": 3,
     "metadata": {},
     "output_type": "execute_result"
    }
   ],
   "source": [
    "nlexique = pd.read_csv('../data/nlexique.csv')\n",
    "nlexique = nlexique[['lexeme', 'sg', 'gen']].rename(columns={'sg': 'phon'}).dropna().reset_index(drop=True)\n",
    "tilde = nlexique.iloc[-1]['phon'][-1]\n",
    "nlexique['phon'] = nlexique['phon'].apply(correct_nasal_vowel_transcripts)\n",
    "nlexique"
   ]
  },
  {
   "cell_type": "code",
   "execution_count": 4,
   "metadata": {},
   "outputs": [
    {
     "data": {
      "text/html": [
       "<div>\n",
       "<style scoped>\n",
       "    .dataframe tbody tr th:only-of-type {\n",
       "        vertical-align: middle;\n",
       "    }\n",
       "\n",
       "    .dataframe tbody tr th {\n",
       "        vertical-align: top;\n",
       "    }\n",
       "\n",
       "    .dataframe thead th {\n",
       "        text-align: right;\n",
       "    }\n",
       "</style>\n",
       "<table border=\"1\" class=\"dataframe\">\n",
       "  <thead>\n",
       "    <tr style=\"text-align: right;\">\n",
       "      <th></th>\n",
       "      <th>lexeme</th>\n",
       "      <th>phon</th>\n",
       "      <th>gen</th>\n",
       "    </tr>\n",
       "  </thead>\n",
       "  <tbody>\n",
       "  </tbody>\n",
       "</table>\n",
       "</div>"
      ],
      "text/plain": [
       "Empty DataFrame\n",
       "Columns: [lexeme, phon, gen]\n",
       "Index: []"
      ]
     },
     "execution_count": 4,
     "metadata": {},
     "output_type": "execute_result"
    }
   ],
   "source": [
    "# check\n",
    "nlexique[nlexique['phon'].apply(lambda x: tilde in x)]"
   ]
  },
  {
   "cell_type": "code",
   "execution_count": 69,
   "metadata": {},
   "outputs": [
    {
     "data": {
      "text/html": [
       "<div>\n",
       "<style scoped>\n",
       "    .dataframe tbody tr th:only-of-type {\n",
       "        vertical-align: middle;\n",
       "    }\n",
       "\n",
       "    .dataframe tbody tr th {\n",
       "        vertical-align: top;\n",
       "    }\n",
       "\n",
       "    .dataframe thead th {\n",
       "        text-align: right;\n",
       "    }\n",
       "</style>\n",
       "<table border=\"1\" class=\"dataframe\">\n",
       "  <thead>\n",
       "    <tr style=\"text-align: right;\">\n",
       "      <th></th>\n",
       "      <th>lemma</th>\n",
       "      <th>suffix</th>\n",
       "      <th>phon</th>\n",
       "      <th>gen</th>\n",
       "    </tr>\n",
       "  </thead>\n",
       "  <tbody>\n",
       "    <tr>\n",
       "      <th>0</th>\n",
       "      <td>berlingue</td>\n",
       "      <td>0</td>\n",
       "      <td>bɛʁl3g</td>\n",
       "      <td>m</td>\n",
       "    </tr>\n",
       "    <tr>\n",
       "      <th>1</th>\n",
       "      <td>corton</td>\n",
       "      <td>on</td>\n",
       "      <td>kɔʁt2</td>\n",
       "      <td>m</td>\n",
       "    </tr>\n",
       "    <tr>\n",
       "      <th>2</th>\n",
       "      <td>dabuche</td>\n",
       "      <td>uche</td>\n",
       "      <td>dabyʃ</td>\n",
       "      <td>f</td>\n",
       "    </tr>\n",
       "    <tr>\n",
       "      <th>3</th>\n",
       "      <td>faf</td>\n",
       "      <td>0</td>\n",
       "      <td>faf</td>\n",
       "      <td>m</td>\n",
       "    </tr>\n",
       "    <tr>\n",
       "      <th>4</th>\n",
       "      <td>gail</td>\n",
       "      <td>0</td>\n",
       "      <td>gaj</td>\n",
       "      <td>f</td>\n",
       "    </tr>\n",
       "    <tr>\n",
       "      <th>...</th>\n",
       "      <td>...</td>\n",
       "      <td>...</td>\n",
       "      <td>...</td>\n",
       "      <td>...</td>\n",
       "    </tr>\n",
       "    <tr>\n",
       "      <th>4527</th>\n",
       "      <td>palu</td>\n",
       "      <td>0</td>\n",
       "      <td>paly</td>\n",
       "      <td>m</td>\n",
       "    </tr>\n",
       "    <tr>\n",
       "      <th>4528</th>\n",
       "      <td>talc</td>\n",
       "      <td>0</td>\n",
       "      <td>talk</td>\n",
       "      <td>m</td>\n",
       "    </tr>\n",
       "    <tr>\n",
       "      <th>4529</th>\n",
       "      <td>sauvetage</td>\n",
       "      <td>age</td>\n",
       "      <td>sOvətaʒ</td>\n",
       "      <td>m</td>\n",
       "    </tr>\n",
       "    <tr>\n",
       "      <th>4530</th>\n",
       "      <td>plaid</td>\n",
       "      <td>0</td>\n",
       "      <td>plɛd</td>\n",
       "      <td>m</td>\n",
       "    </tr>\n",
       "    <tr>\n",
       "      <th>4531</th>\n",
       "      <td>lob</td>\n",
       "      <td>0</td>\n",
       "      <td>lɔb</td>\n",
       "      <td>m</td>\n",
       "    </tr>\n",
       "  </tbody>\n",
       "</table>\n",
       "<p>4532 rows × 4 columns</p>\n",
       "</div>"
      ],
      "text/plain": [
       "          lemma suffix     phon gen\n",
       "0     berlingue      0   bɛʁl3g   m\n",
       "1        corton     on    kɔʁt2   m\n",
       "2       dabuche   uche    dabyʃ   f\n",
       "3           faf      0      faf   m\n",
       "4          gail      0      gaj   f\n",
       "...         ...    ...      ...  ..\n",
       "4527       palu      0     paly   m\n",
       "4528       talc      0     talk   m\n",
       "4529  sauvetage    age  sOvətaʒ   m\n",
       "4530      plaid      0     plɛd   m\n",
       "4531        lob      0      lɔb   m\n",
       "\n",
       "[4532 rows x 4 columns]"
      ]
     },
     "execution_count": 69,
     "metadata": {},
     "output_type": "execute_result"
    }
   ],
   "source": [
    "echantinom = pd.read_csv('../data/Echantinom-full-20210902.csv')\n",
    "echantinom = echantinom[~echantinom['lemma'].isin(nlexique[nlexique['gen'] == 'b']['lexeme'])][['lemma', 'gen', 'phon', 'suffix']]\n",
    "echantinom = pd.merge(echantinom, nlexique, left_on='lemma', right_on='lexeme', how='left', suffixes=('_y', ''))\\\n",
    "           .drop(columns=['lexeme', 'phon_y', 'gen_y']).dropna().reset_index(drop=True)\n",
    "echantinom"
   ]
  },
  {
   "cell_type": "markdown",
   "metadata": {},
   "source": [
    "## Orthographic forms"
   ]
  },
  {
   "cell_type": "code",
   "execution_count": 6,
   "metadata": {},
   "outputs": [
    {
     "data": {
      "text/html": [
       "<div>\n",
       "<style scoped>\n",
       "    .dataframe tbody tr th:only-of-type {\n",
       "        vertical-align: middle;\n",
       "    }\n",
       "\n",
       "    .dataframe tbody tr th {\n",
       "        vertical-align: top;\n",
       "    }\n",
       "\n",
       "    .dataframe thead th {\n",
       "        text-align: right;\n",
       "    }\n",
       "</style>\n",
       "<table border=\"1\" class=\"dataframe\">\n",
       "  <thead>\n",
       "    <tr style=\"text-align: right;\">\n",
       "      <th></th>\n",
       "      <th>lexeme</th>\n",
       "      <th>gen</th>\n",
       "    </tr>\n",
       "  </thead>\n",
       "  <tbody>\n",
       "    <tr>\n",
       "      <th>0</th>\n",
       "      <td>à-côté</td>\n",
       "      <td>m</td>\n",
       "    </tr>\n",
       "    <tr>\n",
       "      <th>1</th>\n",
       "      <td>à-coup</td>\n",
       "      <td>m</td>\n",
       "    </tr>\n",
       "    <tr>\n",
       "      <th>2</th>\n",
       "      <td>à-peu-près</td>\n",
       "      <td>m</td>\n",
       "    </tr>\n",
       "    <tr>\n",
       "      <th>3</th>\n",
       "      <td>à-pic</td>\n",
       "      <td>m</td>\n",
       "    </tr>\n",
       "    <tr>\n",
       "      <th>4</th>\n",
       "      <td>à-plat</td>\n",
       "      <td>m</td>\n",
       "    </tr>\n",
       "    <tr>\n",
       "      <th>...</th>\n",
       "      <td>...</td>\n",
       "      <td>...</td>\n",
       "    </tr>\n",
       "    <tr>\n",
       "      <th>24875</th>\n",
       "      <td>zurichois</td>\n",
       "      <td>m</td>\n",
       "    </tr>\n",
       "    <tr>\n",
       "      <th>24876</th>\n",
       "      <td>zydeco</td>\n",
       "      <td>f</td>\n",
       "    </tr>\n",
       "    <tr>\n",
       "      <th>24877</th>\n",
       "      <td>zygoma</td>\n",
       "      <td>m</td>\n",
       "    </tr>\n",
       "    <tr>\n",
       "      <th>24878</th>\n",
       "      <td>zygote</td>\n",
       "      <td>m</td>\n",
       "    </tr>\n",
       "    <tr>\n",
       "      <th>24879</th>\n",
       "      <td>zyklon</td>\n",
       "      <td>m</td>\n",
       "    </tr>\n",
       "  </tbody>\n",
       "</table>\n",
       "<p>24880 rows × 2 columns</p>\n",
       "</div>"
      ],
      "text/plain": [
       "           lexeme gen\n",
       "0          à-côté   m\n",
       "1          à-coup   m\n",
       "2      à-peu-près   m\n",
       "3           à-pic   m\n",
       "4          à-plat   m\n",
       "...           ...  ..\n",
       "24875   zurichois   m\n",
       "24876      zydeco   f\n",
       "24877      zygoma   m\n",
       "24878      zygote   m\n",
       "24879      zyklon   m\n",
       "\n",
       "[24880 rows x 2 columns]"
      ]
     },
     "execution_count": 6,
     "metadata": {},
     "output_type": "execute_result"
    }
   ],
   "source": [
    "# orth_train = nlexique[(~nlexique['lexeme'].isin(echantinom['lemma'])) & (nlexique['gen'] != 'b')][['lexeme', 'gen']]\n",
    "# orth_train.to_csv('../data/orth_train.csv', index=None)\n",
    "\n",
    "orth_train = pd.read_csv('../data/orth_train.csv')\n",
    "orth_train"
   ]
  },
  {
   "cell_type": "code",
   "execution_count": 64,
   "metadata": {},
   "outputs": [
    {
     "data": {
      "text/html": [
       "<div>\n",
       "<style scoped>\n",
       "    .dataframe tbody tr th:only-of-type {\n",
       "        vertical-align: middle;\n",
       "    }\n",
       "\n",
       "    .dataframe tbody tr th {\n",
       "        vertical-align: top;\n",
       "    }\n",
       "\n",
       "    .dataframe thead th {\n",
       "        text-align: right;\n",
       "    }\n",
       "</style>\n",
       "<table border=\"1\" class=\"dataframe\">\n",
       "  <thead>\n",
       "    <tr style=\"text-align: right;\">\n",
       "      <th></th>\n",
       "      <th>lemma</th>\n",
       "      <th>gen</th>\n",
       "    </tr>\n",
       "  </thead>\n",
       "  <tbody>\n",
       "    <tr>\n",
       "      <th>0</th>\n",
       "      <td>corton</td>\n",
       "      <td>m</td>\n",
       "    </tr>\n",
       "    <tr>\n",
       "      <th>1</th>\n",
       "      <td>dabuche</td>\n",
       "      <td>f</td>\n",
       "    </tr>\n",
       "    <tr>\n",
       "      <th>7</th>\n",
       "      <td>abatis</td>\n",
       "      <td>m</td>\n",
       "    </tr>\n",
       "    <tr>\n",
       "      <th>8</th>\n",
       "      <td>abattant</td>\n",
       "      <td>m</td>\n",
       "    </tr>\n",
       "    <tr>\n",
       "      <th>9</th>\n",
       "      <td>ablette</td>\n",
       "      <td>f</td>\n",
       "    </tr>\n",
       "    <tr>\n",
       "      <th>...</th>\n",
       "      <td>...</td>\n",
       "      <td>...</td>\n",
       "    </tr>\n",
       "    <tr>\n",
       "      <th>1758</th>\n",
       "      <td>pratiquant</td>\n",
       "      <td>m</td>\n",
       "    </tr>\n",
       "    <tr>\n",
       "      <th>1759</th>\n",
       "      <td>tournure</td>\n",
       "      <td>f</td>\n",
       "    </tr>\n",
       "    <tr>\n",
       "      <th>1760</th>\n",
       "      <td>martinet</td>\n",
       "      <td>m</td>\n",
       "    </tr>\n",
       "    <tr>\n",
       "      <th>1761</th>\n",
       "      <td>classeur</td>\n",
       "      <td>m</td>\n",
       "    </tr>\n",
       "    <tr>\n",
       "      <th>1762</th>\n",
       "      <td>sauvetage</td>\n",
       "      <td>m</td>\n",
       "    </tr>\n",
       "  </tbody>\n",
       "</table>\n",
       "<p>1606 rows × 2 columns</p>\n",
       "</div>"
      ],
      "text/plain": [
       "           lemma gen\n",
       "0         corton   m\n",
       "1        dabuche   f\n",
       "7         abatis   m\n",
       "8       abattant   m\n",
       "9        ablette   f\n",
       "...          ...  ..\n",
       "1758  pratiquant   m\n",
       "1759    tournure   f\n",
       "1760    martinet   m\n",
       "1761    classeur   m\n",
       "1762   sauvetage   m\n",
       "\n",
       "[1606 rows x 2 columns]"
      ]
     },
     "execution_count": 64,
     "metadata": {},
     "output_type": "execute_result"
    }
   ],
   "source": [
    "# orth_test = echantinom[['lemma', 'gen']]\n",
    "# orth_test.to_csv('../data/orth_test.csv', index=None)\n",
    "\n",
    "orth_test = pd.read_csv('../data/orth_test.csv')\n",
    "orth_test"
   ]
  },
  {
   "cell_type": "code",
   "execution_count": 8,
   "metadata": {},
   "outputs": [
    {
     "name": "stdout",
     "output_type": "stream",
     "text": [
      "Epoch: 0\n",
      "[Train] Loss: 0.3734   Accuracy: 84.99%   Beginning of plateau (index): 0   Accuracy at the beginning of plateau: 63.17%\n",
      "[Valid] Loss: 0.3830   Accuracy: 82.24%   Beginning of plateau (index): 0   Accuracy at the beginning of plateau: 68.35%\n",
      "----------------------------------------------------------------------------------------------------\n",
      "Epoch: 1\n",
      "[Train] Loss: 0.2554   Accuracy: 89.79%   Beginning of plateau (index): 0   Accuracy at the beginning of plateau: 67.53%\n",
      "[Valid] Loss: 0.3842   Accuracy: 84.14%   Beginning of plateau (index): 0   Accuracy at the beginning of plateau: 66.05%\n",
      "----------------------------------------------------------------------------------------------------\n",
      "Epoch: 2\n",
      "[Train] Loss: 0.2353   Accuracy: 90.78%   Beginning of plateau (index): 0   Accuracy at the beginning of plateau: 63.46%\n",
      "[Valid] Loss: 0.2559   Accuracy: 89.26%   Beginning of plateau (index): 0   Accuracy at the beginning of plateau: 64.92%\n",
      "----------------------------------------------------------------------------------------------------\n",
      "Epoch: 3\n",
      "[Train] Loss: 0.2106   Accuracy: 91.70%   Beginning of plateau (index): 0   Accuracy at the beginning of plateau: 64.11%\n",
      "[Valid] Loss: 0.2511   Accuracy: 89.38%   Beginning of plateau (index): 0   Accuracy at the beginning of plateau: 66.41%\n",
      "----------------------------------------------------------------------------------------------------\n",
      "Epoch: 4\n",
      "[Train] Loss: 0.1960   Accuracy: 92.00%   Beginning of plateau (index): 0   Accuracy at the beginning of plateau: 65.67%\n",
      "[Valid] Loss: 0.2612   Accuracy: 88.51%   Beginning of plateau (index): 0   Accuracy at the beginning of plateau: 67.16%\n",
      "----------------------------------------------------------------------------------------------------\n",
      "Epoch: 5\n",
      "[Train] Loss: 0.1819   Accuracy: 92.53%   Beginning of plateau (index): 0   Accuracy at the beginning of plateau: 66.55%\n",
      "[Valid] Loss: 0.2437   Accuracy: 90.23%   Beginning of plateau (index): 0   Accuracy at the beginning of plateau: 68.13%\n",
      "----------------------------------------------------------------------------------------------------\n",
      "Epoch: 6\n",
      "[Train] Loss: 0.1637   Accuracy: 93.36%   Beginning of plateau (index): 0   Accuracy at the beginning of plateau: 70.67%\n",
      "[Valid] Loss: 0.2367   Accuracy: 90.54%   Beginning of plateau (index): 0   Accuracy at the beginning of plateau: 72.31%\n",
      "----------------------------------------------------------------------------------------------------\n",
      "Epoch: 7\n",
      "[Train] Loss: 0.1464   Accuracy: 94.02%   Beginning of plateau (index): 0   Accuracy at the beginning of plateau: 73.44%\n",
      "[Valid] Loss: 0.2545   Accuracy: 90.65%   Beginning of plateau (index): 0   Accuracy at the beginning of plateau: 75.75%\n",
      "----------------------------------------------------------------------------------------------------\n",
      "Epoch: 8\n",
      "[Train] Loss: 0.1241   Accuracy: 94.89%   Beginning of plateau (index): 0   Accuracy at the beginning of plateau: 75.30%\n",
      "[Valid] Loss: 0.2626   Accuracy: 90.79%   Beginning of plateau (index): 0   Accuracy at the beginning of plateau: 78.73%\n",
      "----------------------------------------------------------------------------------------------------\n",
      "Epoch: 9\n",
      "[Train] Loss: 0.1025   Accuracy: 95.97%   Beginning of plateau (index): 0   Accuracy at the beginning of plateau: 77.97%\n",
      "[Valid] Loss: 0.2877   Accuracy: 90.59%   Beginning of plateau (index): 0   Accuracy at the beginning of plateau: 78.41%\n",
      "----------------------------------------------------------------------------------------------------\n",
      "Early stopping after 10 epochs and 3 epochs without improvement.\n"
     ]
    }
   ],
   "source": [
    "orth_train_set, orth_valid_set = train_test_split(orth_train, test_size=0.2)\n",
    "\n",
    "orth_train_generator = DataGenerator(orth_train_set, reverse_nouns=True)\n",
    "orth_valid_generator = DataGenerator(orth_valid_set, parentgenerator=orth_train_generator, reverse_nouns=True)\n",
    "\n",
    "orth_model = GenderLSTM(orth_train_generator, embedding_dim, hidden_size, device=DEVICE, reversed=True)\n",
    "orth_train_metrics, orth_valid_metrics = orth_model.train_model(\n",
    "    orth_train_generator, orth_valid_generator, n_epochs, batch_size, lr, save_model='../saved_models/nlexique_orth_model.pth'\n",
    "    )"
   ]
  },
  {
   "cell_type": "code",
   "execution_count": 20,
   "metadata": {},
   "outputs": [
    {
     "data": {
      "image/png": "[encoded data removed]",
      "text/plain": [
       "<Figure size 1200x400 with 2 Axes>"
      ]
     },
     "metadata": {},
     "output_type": "display_data"
    }
   ],
   "source": [
    "plot_metrics(orth_train_metrics['accuracy'], orth_valid_metrics['accuracy'], orth_train_metrics['loss'], orth_valid_metrics['loss'])"
   ]
  },
  {
   "cell_type": "code",
   "execution_count": 45,
   "metadata": {},
   "outputs": [
    {
     "name": "stdout",
     "output_type": "stream",
     "text": [
      "The most frequent label in the dataset is: m\n"
     ]
    },
    {
     "data": {
      "image/png": "[encoded data removed]",
      "text/plain": [
       "<Figure size 640x480 with 1 Axes>"
      ]
     },
     "metadata": {},
     "output_type": "display_data"
    }
   ],
   "source": [
    "baseline_acc = baseline_accuracy(orth_train_generator, orth_valid_generator, verbose=True)\n",
    "\n",
    "compare_accuracies(baseline_acc, orth_valid_metrics['accuracy'][-1])"
   ]
  },
  {
   "cell_type": "code",
   "execution_count": 38,
   "metadata": {},
   "outputs": [],
   "source": [
    "orth_test_generator = DataGenerator(orth_test, parentgenerator=orth_train_generator, reverse_nouns=True)\n",
    "orth_predictions = orth_model.predict(orth_test_generator, batch_size, set='test')\n",
    "\n",
    "orth_predictions_df = pd.merge(pd.DataFrame(orth_predictions), echantinom[['lemma', 'phon']], left_on='Form', right_on='lemma', how='left').drop('lemma', axis=1)\n",
    "orth_predictions_df.insert(1, 'Alt Form', orth_predictions_df.pop('phon'))\n",
    "orth_predictions_df.to_csv('../results/echantinom_orth_preds_new.csv', index=False)"
   ]
  },
  {
   "cell_type": "code",
   "execution_count": 49,
   "metadata": {},
   "outputs": [
    {
     "data": {
      "text/plain": [
       "'Results successfully written to ../results/echantinom_orth_preds_x10_new.csv'"
      ]
     },
     "execution_count": 49,
     "metadata": {},
     "output_type": "execute_result"
    }
   ],
   "source": [
    "statistical_check(orth_train_set, orth_valid_set, orth_test, hyperparameters, outfile='../results/echantinom_orth_preds_x10_new.csv', runs=10, reverse_nouns=True, device=DEVICE)"
   ]
  },
  {
   "cell_type": "markdown",
   "metadata": {},
   "source": [
    "## Phonetic forms"
   ]
  },
  {
   "cell_type": "code",
   "execution_count": 39,
   "metadata": {},
   "outputs": [
    {
     "data": {
      "text/html": [
       "<div>\n",
       "<style scoped>\n",
       "    .dataframe tbody tr th:only-of-type {\n",
       "        vertical-align: middle;\n",
       "    }\n",
       "\n",
       "    .dataframe tbody tr th {\n",
       "        vertical-align: top;\n",
       "    }\n",
       "\n",
       "    .dataframe thead th {\n",
       "        text-align: right;\n",
       "    }\n",
       "</style>\n",
       "<table border=\"1\" class=\"dataframe\">\n",
       "  <thead>\n",
       "    <tr style=\"text-align: right;\">\n",
       "      <th></th>\n",
       "      <th>phon</th>\n",
       "      <th>gen</th>\n",
       "    </tr>\n",
       "  </thead>\n",
       "  <tbody>\n",
       "    <tr>\n",
       "      <th>0</th>\n",
       "      <td>akOte</td>\n",
       "      <td>m</td>\n",
       "    </tr>\n",
       "    <tr>\n",
       "      <th>1</th>\n",
       "      <td>aku</td>\n",
       "      <td>m</td>\n",
       "    </tr>\n",
       "    <tr>\n",
       "      <th>2</th>\n",
       "      <td>apØpʁɛ</td>\n",
       "      <td>m</td>\n",
       "    </tr>\n",
       "    <tr>\n",
       "      <th>3</th>\n",
       "      <td>apik</td>\n",
       "      <td>m</td>\n",
       "    </tr>\n",
       "    <tr>\n",
       "      <th>4</th>\n",
       "      <td>apla</td>\n",
       "      <td>m</td>\n",
       "    </tr>\n",
       "    <tr>\n",
       "      <th>...</th>\n",
       "      <td>...</td>\n",
       "      <td>...</td>\n",
       "    </tr>\n",
       "    <tr>\n",
       "      <th>24875</th>\n",
       "      <td>zyʁikwa</td>\n",
       "      <td>m</td>\n",
       "    </tr>\n",
       "    <tr>\n",
       "      <th>24876</th>\n",
       "      <td>zidəko</td>\n",
       "      <td>f</td>\n",
       "    </tr>\n",
       "    <tr>\n",
       "      <th>24877</th>\n",
       "      <td>zigOma</td>\n",
       "      <td>m</td>\n",
       "    </tr>\n",
       "    <tr>\n",
       "      <th>24878</th>\n",
       "      <td>zigɔt</td>\n",
       "      <td>m</td>\n",
       "    </tr>\n",
       "    <tr>\n",
       "      <th>24879</th>\n",
       "      <td>zikl2</td>\n",
       "      <td>m</td>\n",
       "    </tr>\n",
       "  </tbody>\n",
       "</table>\n",
       "<p>24880 rows × 2 columns</p>\n",
       "</div>"
      ],
      "text/plain": [
       "          phon gen\n",
       "0        akOte   m\n",
       "1          aku   m\n",
       "2       apØpʁɛ   m\n",
       "3         apik   m\n",
       "4         apla   m\n",
       "...        ...  ..\n",
       "24875  zyʁikwa   m\n",
       "24876   zidəko   f\n",
       "24877   zigOma   m\n",
       "24878    zigɔt   m\n",
       "24879    zikl2   m\n",
       "\n",
       "[24880 rows x 2 columns]"
      ]
     },
     "execution_count": 39,
     "metadata": {},
     "output_type": "execute_result"
    }
   ],
   "source": [
    "# phon_train = nlexique[(~nlexique['lexeme'].isin(echantinom['lemma'])) & (nlexique['gen'] != 'b')][['phon', 'gen']]\n",
    "# phon_train.to_csv('../data/phon_train.csv', index=None)\n",
    "\n",
    "phon_train = pd.read_csv('../data/phon_train.csv')\n",
    "phon_train"
   ]
  },
  {
   "cell_type": "code",
   "execution_count": 67,
   "metadata": {},
   "outputs": [
    {
     "data": {
      "text/html": [
       "<div>\n",
       "<style scoped>\n",
       "    .dataframe tbody tr th:only-of-type {\n",
       "        vertical-align: middle;\n",
       "    }\n",
       "\n",
       "    .dataframe tbody tr th {\n",
       "        vertical-align: top;\n",
       "    }\n",
       "\n",
       "    .dataframe thead th {\n",
       "        text-align: right;\n",
       "    }\n",
       "</style>\n",
       "<table border=\"1\" class=\"dataframe\">\n",
       "  <thead>\n",
       "    <tr style=\"text-align: right;\">\n",
       "      <th></th>\n",
       "      <th>phon</th>\n",
       "      <th>gen</th>\n",
       "    </tr>\n",
       "  </thead>\n",
       "  <tbody>\n",
       "    <tr>\n",
       "      <th>0</th>\n",
       "      <td>bɛʁl3g</td>\n",
       "      <td>m</td>\n",
       "    </tr>\n",
       "    <tr>\n",
       "      <th>1</th>\n",
       "      <td>kɔʁt2</td>\n",
       "      <td>m</td>\n",
       "    </tr>\n",
       "    <tr>\n",
       "      <th>2</th>\n",
       "      <td>dabyʃ</td>\n",
       "      <td>f</td>\n",
       "    </tr>\n",
       "    <tr>\n",
       "      <th>3</th>\n",
       "      <td>faf</td>\n",
       "      <td>m</td>\n",
       "    </tr>\n",
       "    <tr>\n",
       "      <th>4</th>\n",
       "      <td>gaj</td>\n",
       "      <td>f</td>\n",
       "    </tr>\n",
       "    <tr>\n",
       "      <th>...</th>\n",
       "      <td>...</td>\n",
       "      <td>...</td>\n",
       "    </tr>\n",
       "    <tr>\n",
       "      <th>4527</th>\n",
       "      <td>paly</td>\n",
       "      <td>m</td>\n",
       "    </tr>\n",
       "    <tr>\n",
       "      <th>4528</th>\n",
       "      <td>talk</td>\n",
       "      <td>m</td>\n",
       "    </tr>\n",
       "    <tr>\n",
       "      <th>4529</th>\n",
       "      <td>sOvətaʒ</td>\n",
       "      <td>m</td>\n",
       "    </tr>\n",
       "    <tr>\n",
       "      <th>4530</th>\n",
       "      <td>plɛd</td>\n",
       "      <td>m</td>\n",
       "    </tr>\n",
       "    <tr>\n",
       "      <th>4531</th>\n",
       "      <td>lɔb</td>\n",
       "      <td>m</td>\n",
       "    </tr>\n",
       "  </tbody>\n",
       "</table>\n",
       "<p>4532 rows × 2 columns</p>\n",
       "</div>"
      ],
      "text/plain": [
       "         phon gen\n",
       "0      bɛʁl3g   m\n",
       "1       kɔʁt2   m\n",
       "2       dabyʃ   f\n",
       "3         faf   m\n",
       "4         gaj   f\n",
       "...       ...  ..\n",
       "4527     paly   m\n",
       "4528     talk   m\n",
       "4529  sOvətaʒ   m\n",
       "4530     plɛd   m\n",
       "4531      lɔb   m\n",
       "\n",
       "[4532 rows x 2 columns]"
      ]
     },
     "execution_count": 67,
     "metadata": {},
     "output_type": "execute_result"
    }
   ],
   "source": [
    "# phon_test = echantinom[['phon', 'gen']]\n",
    "# phon_test.to_csv('../data/phon_test.csv', index=None)\n",
    "\n",
    "phon_test = pd.read_csv('../data/phon_test.csv')\n",
    "phon_test"
   ]
  },
  {
   "cell_type": "code",
   "execution_count": 41,
   "metadata": {},
   "outputs": [
    {
     "name": "stdout",
     "output_type": "stream",
     "text": [
      "Epoch: 0\n",
      "[Train] Loss: 0.4224   Accuracy: 79.14%   Beginning of plateau (index): 0   Accuracy at the beginning of plateau: 56.05%\n",
      "[Valid] Loss: 0.5258   Accuracy: 70.56%   Beginning of plateau (index): 0   Accuracy at the beginning of plateau: 56.35%\n",
      "----------------------------------------------------------------------------------------------------\n",
      "Epoch: 1\n",
      "[Train] Loss: 0.3598   Accuracy: 82.73%   Beginning of plateau (index): 0   Accuracy at the beginning of plateau: 56.73%\n",
      "[Valid] Loss: 0.3933   Accuracy: 81.09%   Beginning of plateau (index): 0   Accuracy at the beginning of plateau: 56.07%\n",
      "----------------------------------------------------------------------------------------------------\n",
      "Epoch: 2\n",
      "[Train] Loss: 0.3264   Accuracy: 84.69%   Beginning of plateau (index): 0   Accuracy at the beginning of plateau: 58.08%\n",
      "[Valid] Loss: 0.3705   Accuracy: 82.13%   Beginning of plateau (index): 0   Accuracy at the beginning of plateau: 56.81%\n",
      "----------------------------------------------------------------------------------------------------\n",
      "Epoch: 3\n",
      "[Train] Loss: 0.3058   Accuracy: 85.62%   Beginning of plateau (index): 0   Accuracy at the beginning of plateau: 60.08%\n",
      "[Valid] Loss: 0.3554   Accuracy: 83.21%   Beginning of plateau (index): 0   Accuracy at the beginning of plateau: 58.42%\n",
      "----------------------------------------------------------------------------------------------------\n",
      "Epoch: 4\n",
      "[Train] Loss: 0.2877   Accuracy: 86.56%   Beginning of plateau (index): 0   Accuracy at the beginning of plateau: 61.07%\n",
      "[Valid] Loss: 0.3520   Accuracy: 83.65%   Beginning of plateau (index): 0   Accuracy at the beginning of plateau: 59.68%\n",
      "----------------------------------------------------------------------------------------------------\n",
      "Epoch: 5\n",
      "[Train] Loss: 0.2679   Accuracy: 87.60%   Beginning of plateau (index): 0   Accuracy at the beginning of plateau: 62.40%\n",
      "[Valid] Loss: 0.3644   Accuracy: 84.35%   Beginning of plateau (index): 0   Accuracy at the beginning of plateau: 61.00%\n",
      "----------------------------------------------------------------------------------------------------\n",
      "Epoch: 6\n",
      "[Train] Loss: 0.2467   Accuracy: 88.67%   Beginning of plateau (index): 0   Accuracy at the beginning of plateau: 63.12%\n",
      "[Valid] Loss: 0.3753   Accuracy: 84.11%   Beginning of plateau (index): 1   Accuracy at the beginning of plateau: 73.88%\n",
      "----------------------------------------------------------------------------------------------------\n",
      "Epoch: 7\n",
      "[Train] Loss: 0.2233   Accuracy: 89.63%   Beginning of plateau (index): 1   Accuracy at the beginning of plateau: 75.51%\n",
      "[Valid] Loss: 0.3963   Accuracy: 83.93%   Beginning of plateau (index): 1   Accuracy at the beginning of plateau: 75.08%\n",
      "----------------------------------------------------------------------------------------------------\n",
      "Early stopping after 8 epochs and 3 epochs without improvement.\n"
     ]
    }
   ],
   "source": [
    "phon_train_set, phon_valid_set = train_test_split(phon_train, test_size=0.2)\n",
    "\n",
    "phon_train_generator = DataGenerator(phon_train_set, reverse_nouns=True)\n",
    "phon_valid_generator = DataGenerator(phon_valid_set, parentgenerator=phon_train_generator, reverse_nouns=True)\n",
    "\n",
    "phon_model = GenderLSTM(phon_train_generator, embedding_dim, hidden_size, device=DEVICE, reversed=True)\n",
    "phon_train_metrics, phon_valid_metrics = phon_model.train_model(\n",
    "    phon_train_generator, phon_valid_generator, n_epochs, batch_size, lr, save_model='../saved_models/nlexique_phon_model.pth'\n",
    "    )"
   ]
  },
  {
   "cell_type": "code",
   "execution_count": 42,
   "metadata": {},
   "outputs": [
    {
     "data": {
      "image/png": "[encoded data removed]",
      "text/plain": [
       "<Figure size 1200x400 with 2 Axes>"
      ]
     },
     "metadata": {},
     "output_type": "display_data"
    }
   ],
   "source": [
    "plot_metrics(phon_train_metrics['accuracy'], phon_valid_metrics['accuracy'], phon_train_metrics['loss'], phon_valid_metrics['loss'])"
   ]
  },
  {
   "cell_type": "code",
   "execution_count": 46,
   "metadata": {},
   "outputs": [
    {
     "name": "stdout",
     "output_type": "stream",
     "text": [
      "The most frequent label in the dataset is: m\n"
     ]
    },
    {
     "data": {
      "image/png": "[encoded data removed]",
      "text/plain": [
       "<Figure size 640x480 with 1 Axes>"
      ]
     },
     "metadata": {},
     "output_type": "display_data"
    }
   ],
   "source": [
    "baseline_acc = baseline_accuracy(phon_train_generator, phon_valid_generator, verbose=True)\n",
    "\n",
    "compare_accuracies(baseline_acc, phon_valid_metrics['accuracy'][-1])"
   ]
  },
  {
   "cell_type": "code",
   "execution_count": 47,
   "metadata": {},
   "outputs": [],
   "source": [
    "phon_test_generator = DataGenerator(phon_test, parentgenerator=phon_train_generator, reverse_nouns=True)\n",
    "phon_predictions = phon_model.predict(phon_test_generator, batch_size, set='test')\n",
    "\n",
    "phon_predictions_df = pd.merge(pd.DataFrame(phon_predictions), echantinom[['lemma', 'phon']], left_on='Form', right_on='phon', how='left').drop('phon', axis=1)\n",
    "phon_predictions_df.insert(1, 'Alt Form', phon_predictions_df.pop('lemma'))\n",
    "phon_predictions_df.to_csv('../results/echantinom_phon_preds_new.csv', index=False)"
   ]
  },
  {
   "cell_type": "code",
   "execution_count": 48,
   "metadata": {},
   "outputs": [
    {
     "data": {
      "text/plain": [
       "'Results successfully written to ../results/echantinom_phon_preds_x10_new.csv'"
      ]
     },
     "execution_count": 48,
     "metadata": {},
     "output_type": "execute_result"
    }
   ],
   "source": [
    "statistical_check(phon_train_set, phon_valid_set, phon_test, hyperparameters, outfile='../results/echantinom_phon_preds_x10_new.csv', runs=10, reverse_nouns=True, device=DEVICE)"
   ]
  }
 ],
 "metadata": {
  "kernelspec": {
   "display_name": "venv",
   "language": "python",
   "name": "python3"
  },
  "language_info": {
   "codemirror_mode": {
    "name": "ipython",
    "version": 3
   },
   "file_extension": ".py",
   "mimetype": "text/x-python",
   "name": "python",
   "nbconvert_exporter": "python",
   "pygments_lexer": "ipython3",
   "version": "3.12.3"
  }
 },
 "nbformat": 4,
 "nbformat_minor": 2
}
